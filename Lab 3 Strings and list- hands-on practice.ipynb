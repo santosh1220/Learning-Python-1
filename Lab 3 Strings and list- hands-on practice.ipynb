{
 "cells": [
  {
   "cell_type": "markdown",
   "metadata": {},
   "source": [
    "## LAB3\n",
    "\n"
   ]
  },
  {
   "cell_type": "code",
   "execution_count": 11,
   "metadata": {},
   "outputs": [
    {
     "name": "stdout",
     "output_type": "stream",
     "text": [
      "enter the string\n",
      "efnr nkfv\n",
      "9  is the length of the string\n"
     ]
    }
   ],
   "source": [
    "#Q5\n",
    "print(\"enter the string\")\n",
    "str1=input()\n",
    "count=0\n",
    "for i in str1:\n",
    "    count=count+1\n",
    "print (count,\" is the length of the string\")\n",
    "\n",
    "#you can use len(String) function as well"
   ]
  },
  {
   "cell_type": "code",
   "execution_count": 12,
   "metadata": {},
   "outputs": [
    {
     "name": "stdout",
     "output_type": "stream",
     "text": [
      "enter the string\n",
      "fnkrwf ekwj\n",
      "11  characters are present in the string\n"
     ]
    }
   ],
   "source": [
    "#Q6:\n",
    "print(\"enter the string\")\n",
    "str1=input()\n",
    "count=0\n",
    "for i in str1:\n",
    "    if i:\n",
    "        count=count+1\n",
    "print (count, \" characters are present in the string\")"
   ]
  },
  {
   "cell_type": "code",
   "execution_count": 11,
   "metadata": {},
   "outputs": [
    {
     "name": "stdout",
     "output_type": "stream",
     "text": [
      "enter the string\n",
      "buulg\n",
      "5\n",
      "the new string is bulg\n"
     ]
    }
   ],
   "source": [
    "#Q7: \n",
    "print(\"enter the string\")\n",
    "str1=input()\n",
    "def make_string(str1):\n",
    "    if len(str1)<=2:\n",
    "        return ''\n",
    "    else:\n",
    "        print(\"the new string is\",str1[0:2]+str1[-2:])\n",
    "make_string(str1)"
   ]
  },
  {
   "cell_type": "code",
   "execution_count": 19,
   "metadata": {},
   "outputs": [
    {
     "name": "stdout",
     "output_type": "stream",
     "text": [
      "enter a string\n",
      "my mom make mud pie\n",
      " the new string is my $o$ $ake $ud pie\n"
     ]
    }
   ],
   "source": [
    "#Q8\n",
    "print(\"enter a string\")\n",
    "str1=input()\n",
    "char1=str1[0]\n",
    "new_str=str1.replace(char1,\"$\")\n",
    "print (\" the new string is \",char1+new_str[1:])"
   ]
  },
  {
   "cell_type": "code",
   "execution_count": 2,
   "metadata": {},
   "outputs": [
    {
     "name": "stdout",
     "output_type": "stream",
     "text": [
      "enter string 1\n",
      "hello\n",
      "enter second string\n",
      "world\n",
      "the new string is  ldllo  lorld\n"
     ]
    }
   ],
   "source": [
    "#Q9: \n",
    "print( \"enter string 1\")\n",
    "str1=input()\n",
    "print(\"enter second string\")\n",
    "str2=input()\n",
    "print(\"the new string is \",str2[-2:]+str1[2:],\"\",str1[-2:]+str2[2:])"
   ]
  },
  {
   "cell_type": "code",
   "execution_count": 8,
   "metadata": {},
   "outputs": [
    {
     "name": "stdout",
     "output_type": "stream",
     "text": [
      "enter a string\n",
      "funing\n",
      "6\n",
      "new string is funingly\n"
     ]
    }
   ],
   "source": [
    "#Q10:\n",
    "print(\"enter a string\")\n",
    "str1=input()\n",
    "print(len(str1))\n",
    "def make_new_string(str1):\n",
    "    if len(str1)>2:\n",
    "        if str1[-3:]=='ing':\n",
    "            str1=str1+'ly'\n",
    "            print(\"new string is \"+str1)\n",
    "        else:\n",
    "            str1=str1+'ing'\n",
    "            print(\"new string is \"+str1)\n",
    "    else:\n",
    "        print(\"the string remains unchanged \", str1)\n",
    "make_new_string(str1)\n",
    "    "
   ]
  },
  {
   "cell_type": "code",
   "execution_count": null,
   "metadata": {},
   "outputs": [],
   "source": []
  }
 ],
 "metadata": {
  "kernelspec": {
   "display_name": "Python 3",
   "language": "python",
   "name": "python3"
  },
  "language_info": {
   "codemirror_mode": {
    "name": "ipython",
    "version": 3
   },
   "file_extension": ".py",
   "mimetype": "text/x-python",
   "name": "python",
   "nbconvert_exporter": "python",
   "pygments_lexer": "ipython3",
   "version": "3.7.6"
  }
 },
 "nbformat": 4,
 "nbformat_minor": 2
}
